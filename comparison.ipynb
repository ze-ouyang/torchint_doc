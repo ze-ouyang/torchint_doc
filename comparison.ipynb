{
 "cells": [
  {
   "cell_type": "code",
   "execution_count": 1,
   "id": "97391ee2",
   "metadata": {},
   "outputs": [],
   "source": [
    "import torch \n",
    "import numpy as np\n",
    "import cupy as cp\n",
    "import time \n",
    "import torchint\n",
    "import numpyint\n",
    "import cupyint\n",
    "import torchquad\n",
    "%matplotlib inline\n",
    "import matplotlib.pyplot as plt"
   ]
  },
  {
   "cell_type": "code",
   "execution_count": 2,
   "id": "edc3bfa3",
   "metadata": {},
   "outputs": [
    {
     "name": "stderr",
     "output_type": "stream",
     "text": [
      "/home1/09806/ouyangze111/.local/lib/python3.9/site-packages/torch/__init__.py:955: UserWarning: torch.set_default_tensor_type() is deprecated as of PyTorch 2.1, please use torch.set_default_dtype() and torch.set_default_device() as alternatives. (Triggered internally at ../torch/csrc/tensor/python_tensor.cpp:432.)\n",
      "  _C._set_default_tensor_type(t)\n",
      "/home1/09806/ouyangze111/.local/lib/python3.9/site-packages/torch/functional.py:513: UserWarning: torch.meshgrid: in an upcoming release, it will be required to pass the indexing argument. (Triggered internally at ../aten/src/ATen/native/TensorShape.cpp:3609.)\n",
      "  return _VF.meshgrid(tensors, **kwargs)  # type: ignore[attr-defined]\n"
     ]
    },
    {
     "name": "stdout",
     "output_type": "stream",
     "text": [
      "tensor([1.0000, 0.9303, 0.8444,  ..., 0.8704, 0.8691, 0.8697])\n",
      "torch.float32\n",
      "cuda:0\n"
     ]
    }
   ],
   "source": [
    "# torchquad test\n",
    "torchquad.set_up_backend(\"torch\", data_type=\"float32\")\n",
    "def parametrized_integrand(x, a, b):\n",
    "    return torch.sqrt(torch.cos(torch.sin((a + b) * x)))\n",
    "\n",
    "a_params = torch.arange(1000)\n",
    "b_params = torch.arange(1000)\n",
    "integration_domain = torch.Tensor([[0, 1]])\n",
    "simp = torchquad.Simpson()\n",
    "grid = torch.stack([torch.Tensor([a + b for a in a_params]) for b in b_params])\n",
    "\n",
    "def integrand(x):\n",
    "    return torch.sqrt(torch.cos(torch.sin(torch.einsum(\"i,jk->ijk\", x.flatten(), grid))))\n",
    "start_time = time.time()\n",
    "result_vectorized = simp.integrate(integrand, dim=1, N=101, integration_domain=integration_domain)\n",
    "end_time = time.time()\n",
    "elapsed_time = end_time - start_time\n",
    "\n",
    "# print(\"torchquad time used: \"+ str(elapsed_time)+ \"s\")\n",
    "print(result_vectorized.flatten())\n",
    "print(result_vectorized.dtype)\n",
    "print(result_vectorized.device)\n",
    "\n",
    "time_torchquad=np.zeros(1000)\n",
    "for i in range(len(time_torchquad)):\n",
    "    start_time = time.time()\n",
    "    result_vectorized = simp.integrate(integrand, dim=1, N=101, integration_domain=integration_domain)\n",
    "    end_time = time.time()\n",
    "    elapsed_time = end_time - start_time\n",
    "    time_torchquad[i] = elapsed_time"
   ]
  },
  {
   "cell_type": "code",
   "execution_count": 3,
   "id": "4bbf7c44",
   "metadata": {},
   "outputs": [],
   "source": [
    "#torchint test\n",
    "data_type = torch.float32\n",
    "device_type = 'cuda'\n",
    "torchint.set_backend(data_type, device_type)\n",
    "\n",
    "def function(x,params):\n",
    "    a = params[0]\n",
    "    b = params[0]\n",
    "    return torch.sqrt(torch.cos(torch.sin((a+b) * x)))\n",
    "\n",
    "\n",
    "a1_values = torch.arange(1000)\n",
    "a2_values = torch.arange(1000)\n",
    "param_values = torch.stack((a1_values, a2_values), dim=1)\n",
    "\n",
    "\n",
    "start_time = time.time()\n",
    "integral_value = torchint.trapz_integrate(function, param_values, [[0,1]], [101], None) \n",
    "end_time = time.time()\n",
    "elapsed_time = end_time - start_time\n",
    "# print(\"torchquad time used: \"+ str(elapsed_time)+ \"s\")\n",
    "# print(integral_value)\n",
    "# print(integral_value.dtype)\n",
    "# print(integral_value.device)\n",
    "\n",
    "time_torchint=np.zeros(1000)\n",
    "for i in range(len(time_torchint)):\n",
    "    start_time = time.time()\n",
    "    integral_value = torchint.trapz_integrate(function, param_values, [[0,1]], [101], None)\n",
    "    end_time = time.time()\n",
    "    elapsed_time = end_time - start_time\n",
    "    time_torchint[i] = elapsed_time"
   ]
  },
  {
   "cell_type": "code",
   "execution_count": 12,
   "id": "7f3210f1",
   "metadata": {},
   "outputs": [
    {
     "data": {
      "image/png": "[encoded data removed]",
      "text/plain": [
       "<Figure size 720x432 with 1 Axes>"
      ]
     },
     "metadata": {
      "needs_background": "light"
     },
     "output_type": "display_data"
    },
    {
     "name": "stdout",
     "output_type": "stream",
     "text": [
      "0.00016013503074645995\n",
      "0.004059060335159302\n"
     ]
    }
   ],
   "source": [
    "x_axis = np.linspace(1,1000,1000)\n",
    "plt.figure(figsize=(10, 6))\n",
    "plt.scatter(x_axis, time_torchint, label=\"time_torchint\", alpha=0.5)\n",
    "plt.scatter(x_axis, time_torchquad, label=\"time_torchquad\", alpha=0.5)\n",
    "# plt.axhline(y = np.sum(time_torchint)/1000, color='b', linestyle='--', label='average torchint')\n",
    "# plt.axhline(y = np.sum(time_torchquad)/1000, color='o', linestyle='--', label='average torchquad')\n",
    "plt.xlabel(\"# of try\")\n",
    "plt.ylabel(\"time used\")\n",
    "plt.legend()\n",
    "plt.show()\n",
    "print(np.sum(time_torchint)/1000)\n",
    "print(np.sum(time_torchquad)/1000)"
   ]
  },
  {
   "cell_type": "code",
   "execution_count": null,
   "id": "3e47dd8c",
   "metadata": {},
   "outputs": [],
   "source": []
  },
  {
   "cell_type": "code",
   "execution_count": null,
   "id": "6d67d525",
   "metadata": {},
   "outputs": [],
   "source": []
  },
  {
   "cell_type": "code",
   "execution_count": null,
   "id": "3135314f",
   "metadata": {},
   "outputs": [],
   "source": [
    "#cupyint test\n",
    "data_type = cp.float32\n",
    "cupyint.set_backend(data_type)\n",
    "\n",
    "def function(x,params):\n",
    "    a = params[0]\n",
    "    b = params[0]\n",
    "    return cp.sqrt(cp.cos(cp.sin((a+b) * x)))\n",
    "\n",
    "\n",
    "a1_values = cp.arange(400)\n",
    "a2_values = cp.arange(400)\n",
    "param_values = torch.stack((a1_values, a2_values), dim=1)\n",
    "\n",
    "\n",
    "start_time = time.time()\n",
    "integral_value = cupyint.trapz_integrate(function, param_values, [[0,1]], [101], None) \n",
    "end_time = time.time()\n",
    "elapsed_time = end_time - start_time\n",
    "# print(\"torchquad time used: \"+ str(elapsed_time)+ \"s\")\n",
    "# print(integral_value)\n",
    "# print(integral_value.dtype)\n",
    "# print(integral_value.device)\n",
    "\n",
    "time_cupyint=np.zeros(1000)\n",
    "for i in range(len(time_cupyint)):\n",
    "    start_time = time.time()\n",
    "    integral_value = cupyint.trapz_integrate(function, param_values, [[0,1]], [101], None)\n",
    "    end_time = time.time()\n",
    "    elapsed_time = end_time - start_time\n",
    "    time_cupyint[i] = elapsed_time"
   ]
  },
  {
   "cell_type": "code",
   "execution_count": null,
   "id": "befa5981",
   "metadata": {},
   "outputs": [],
   "source": []
  },
  {
   "cell_type": "code",
   "execution_count": null,
   "id": "9ba75f13",
   "metadata": {},
   "outputs": [],
   "source": []
  }
 ],
 "metadata": {
  "kernelspec": {
   "display_name": "Python 3 (ipykernel)",
   "language": "python",
   "name": "python3"
  },
  "language_info": {
   "codemirror_mode": {
    "name": "ipython",
    "version": 3
   },
   "file_extension": ".py",
   "mimetype": "text/x-python",
   "name": "python",
   "nbconvert_exporter": "python",
   "pygments_lexer": "ipython3",
   "version": "3.9.7"
  }
 },
 "nbformat": 4,
 "nbformat_minor": 5
}
